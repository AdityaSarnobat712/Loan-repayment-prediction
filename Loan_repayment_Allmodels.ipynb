{
  "cells": [
    {
      "cell_type": "code",
      "execution_count": 11,
      "metadata": {
        "id": "7n80nOTZTXRI"
      },
      "outputs": [],
      "source": [
        "# Import libraries\n",
        "import pandas as pd\n",
        "import numpy as np\n",
        "from sklearn.model_selection import train_test_split, cross_val_score\n",
        "from sklearn.preprocessing import StandardScaler, LabelEncoder\n",
        "from sklearn.metrics import accuracy_score, precision_score, recall_score, f1_score, confusion_matrix\n",
        "from xgboost import XGBClassifier\n",
        "from sklearn.ensemble import RandomForestClassifier\n",
        "from sklearn.tree import DecisionTreeClassifier\n",
        "from tensorflow.keras.models import Sequential\n",
        "from tensorflow.keras.layers import Dense\n",
        "import warnings\n",
        "warnings.filterwarnings('ignore')"
      ]
    },
    {
      "cell_type": "code",
      "execution_count": 12,
      "metadata": {
        "colab": {
          "base_uri": "https://localhost:8080/"
        },
        "id": "I8v-v62XUXRs",
        "outputId": "02b18d9d-b1ad-4ea8-a848-7cf0b11acf8a"
      },
      "outputs": [
        {
          "name": "stdout",
          "output_type": "stream",
          "text": [
            "First 5 rows of the dataset:\n",
            "  Customer_ID  Age    Income  Credit_Score  Credit_Utilization  \\\n",
            "0    CUST0001   56  165580.0         398.0            0.390502   \n",
            "1    CUST0002   69  100999.0         493.0            0.312444   \n",
            "2    CUST0003   46  188416.0         500.0            0.359930   \n",
            "3    CUST0004   32  101672.0         413.0            0.371400   \n",
            "4    CUST0005   60   38524.0         487.0            0.234716   \n",
            "\n",
            "   Missed_Payments  Delinquent_Account  Loan_Balance  Debt_to_Income_Ratio  \\\n",
            "0                3                   0       16310.0              0.317396   \n",
            "1                6                   1       17401.0              0.196093   \n",
            "2                0                   0       13761.0              0.301655   \n",
            "3                3                   0       88778.0              0.264794   \n",
            "4                2                   0       13316.0              0.510583   \n",
            "\n",
            "  Employment_Status  Account_Tenure Credit_Card_Type     Location Month_1  \\\n",
            "0               EMP              18          Student  Los Angeles    Late   \n",
            "1     Self-employed               0         Standard      Phoenix  Missed   \n",
            "2     Self-employed               1         Platinum      Chicago  Missed   \n",
            "3        Unemployed              15         Platinum      Phoenix    Late   \n",
            "4     Self-employed              11         Standard      Phoenix  Missed   \n",
            "\n",
            "   Month_2 Month_3  Month_4  Month_5  Month_6  \n",
            "0     Late  Missed     Late   Missed     Late  \n",
            "1   Missed    Late   Missed  On-time  On-time  \n",
            "2     Late    Late  On-time   Missed     Late  \n",
            "3   Missed    Late   Missed     Late     Late  \n",
            "4  On-time  Missed     Late     Late     Late  \n",
            "\n",
            "Missing values in each column:\n",
            "Customer_ID              0\n",
            "Age                      0\n",
            "Income                  39\n",
            "Credit_Score             2\n",
            "Credit_Utilization       0\n",
            "Missed_Payments          0\n",
            "Delinquent_Account       0\n",
            "Loan_Balance            29\n",
            "Debt_to_Income_Ratio     0\n",
            "Employment_Status        0\n",
            "Account_Tenure           0\n",
            "Credit_Card_Type         0\n",
            "Location                 0\n",
            "Month_1                  0\n",
            "Month_2                  0\n",
            "Month_3                  0\n",
            "Month_4                  0\n",
            "Month_5                  0\n",
            "Month_6                  0\n",
            "dtype: int64\n"
          ]
        }
      ],
      "source": [
        "# Load the Excel dataset\n",
        "df = pd.read_csv('data\\Delinquency_prediction_dataset-_1_.csv')\n",
        "\n",
        "# Display first 5 rows to verify data\n",
        "print('First 5 rows of the dataset:')\n",
        "print(df.head())\n",
        "\n",
        "# Check for missing values\n",
        "print('\\nMissing values in each column:')\n",
        "print(df.isnull().sum())"
      ]
    },
    {
      "cell_type": "code",
      "execution_count": 13,
      "metadata": {
        "colab": {
          "base_uri": "https://localhost:8080/"
        },
        "id": "Io-XQyE2VBJa",
        "outputId": "03a7785b-98de-460c-c58d-0e3c0d17f420"
      },
      "outputs": [
        {
          "name": "stdout",
          "output_type": "stream",
          "text": [
            "Data after preprocessing:\n",
            "  Customer_ID  Age    Income  Credit_Score  Credit_Utilization  \\\n",
            "0    CUST0001   56  165580.0         398.0            0.390502   \n",
            "1    CUST0002   69  100999.0         493.0            0.312444   \n",
            "2    CUST0003   46  188416.0         500.0            0.359930   \n",
            "3    CUST0004   32  101672.0         413.0            0.371400   \n",
            "4    CUST0005   60   38524.0         487.0            0.234716   \n",
            "\n",
            "   Missed_Payments  Delinquent_Account  Loan_Balance  Debt_to_Income_Ratio  \\\n",
            "0                3                   0       16310.0              0.317396   \n",
            "1                6                   1       17401.0              0.196093   \n",
            "2                0                   0       13761.0              0.301655   \n",
            "3                3                   0       88778.0              0.264794   \n",
            "4                2                   0       13316.0              0.510583   \n",
            "\n",
            "   Employment_Status  Account_Tenure  Credit_Card_Type  Location  Month_1  \\\n",
            "0                  0              18                 4         2        1   \n",
            "1                  2               0                 3         4        2   \n",
            "2                  2               1                 2         0        2   \n",
            "3                  3              15                 2         4        1   \n",
            "4                  2              11                 3         4        2   \n",
            "\n",
            "   Month_2  Month_3  Month_4  Month_5  Month_6  Payment_Score  \n",
            "0        1        2        1        2        1              8  \n",
            "1        2        1        2        0        0              7  \n",
            "2        1        1        0        2        1              7  \n",
            "3        2        1        2        1        1              8  \n",
            "4        0        2        1        1        1              7  \n",
            "\n",
            "Missing values after handling:\n",
            "Customer_ID             0\n",
            "Age                     0\n",
            "Income                  0\n",
            "Credit_Score            2\n",
            "Credit_Utilization      0\n",
            "Missed_Payments         0\n",
            "Delinquent_Account      0\n",
            "Loan_Balance            0\n",
            "Debt_to_Income_Ratio    0\n",
            "Employment_Status       0\n",
            "Account_Tenure          0\n",
            "Credit_Card_Type        0\n",
            "Location                0\n",
            "Month_1                 0\n",
            "Month_2                 0\n",
            "Month_3                 0\n",
            "Month_4                 0\n",
            "Month_5                 0\n",
            "Month_6                 0\n",
            "Payment_Score           0\n",
            "dtype: int64\n"
          ]
        }
      ],
      "source": [
        "# Handle missing values\n",
        "# Fill missing Income and Loan_Balance with median values\n",
        "df['Income'].fillna(df['Income'].median(), inplace=True)\n",
        "df['Loan_Balance'].fillna(df['Loan_Balance'].median(), inplace=True)\n",
        "\n",
        "# Convert payment history (Month_1 to Month_6) to numerical values\n",
        "# On-time = 0, Late = 1, Missed = 2\n",
        "payment_mapping = {'On-time': 0, 'Late': 1, 'Missed': 2}\n",
        "for month in ['Month_1', 'Month_2', 'Month_3', 'Month_4', 'Month_5', 'Month_6']:\n",
        "    df[month] = df[month].map(payment_mapping)\n",
        "\n",
        "# Encode categorical variables (Employment_Status, Credit_Card_Type, Location)\n",
        "le = LabelEncoder()\n",
        "df['Employment_Status'] = le.fit_transform(df['Employment_Status'])\n",
        "df['Credit_Card_Type'] = le.fit_transform(df['Credit_Card_Type'])\n",
        "df['Location'] = le.fit_transform(df['Location'])\n",
        "\n",
        "# Create a new feature: Payment_Score (sum of payment statuses)\n",
        "df['Payment_Score'] = df[['Month_1', 'Month_2', 'Month_3', 'Month_4', 'Month_5', 'Month_6']].sum(axis=1)\n",
        "\n",
        "# Verify preprocessing\n",
        "print(\"Data after preprocessing:\")\n",
        "print(df.head())\n",
        "print(\"\\nMissing values after handling:\")\n",
        "print(df.isnull().sum())"
      ]
    },
    {
      "cell_type": "code",
      "execution_count": 14,
      "metadata": {
        "colab": {
          "base_uri": "https://localhost:8080/"
        },
        "id": "q27AbJSZXJOZ",
        "outputId": "84504fc2-d414-4d42-c805-dac4025dbcfe"
      },
      "outputs": [
        {
          "name": "stdout",
          "output_type": "stream",
          "text": [
            "Training data shape: (400, 18)\n",
            "Testing data shape: (100, 18)\n",
            "Training labels shape: (400,)\n",
            "Testing labels shape: (100,)\n"
          ]
        }
      ],
      "source": [
        "# Features: all columns except Customer_ID and Delinquent_Account\n",
        "X = df.drop(['Customer_ID', 'Delinquent_Account'], axis=1)\n",
        "# Target: Delinquent_Account (0 or 1)\n",
        "y = df['Delinquent_Account']\n",
        "\n",
        "# Scale numerical features\n",
        "scaler = StandardScaler()\n",
        "X_scaled = scaler.fit_transform(X)\n",
        "\n",
        "# Split data into training (80%) and testing (20%) sets\n",
        "X_train, X_test, y_train, y_test = train_test_split(X_scaled, y, test_size=0.2, random_state=42)\n",
        "\n",
        "# Print shapes to verify\n",
        "print('Training data shape:', X_train.shape)\n",
        "print('Testing data shape:', X_test.shape)\n",
        "print('Training labels shape:', y_train.shape)\n",
        "print('Testing labels shape:', y_test.shape)"
      ]
    },
    {
      "cell_type": "code",
      "execution_count": 15,
      "metadata": {
        "colab": {
          "base_uri": "https://localhost:8080/"
        },
        "id": "hg8TJ6VMXNYI",
        "outputId": "f3bde503-4f17-418b-a29f-26c117b23d1a"
      },
      "outputs": [
        {
          "name": "stdout",
          "output_type": "stream",
          "text": [
            "\n",
            "Training XGBoost...\n",
            "\n",
            "Confusion Matrix for XGBoost:\n",
            "[[85  1]\n",
            " [14  0]]\n",
            "\n",
            "Feature Importance for XGBoost:\n",
            "                 Feature  Importance\n",
            "15               Month_5    0.101168\n",
            "17         Payment_Score    0.073944\n",
            "0                    Age    0.065643\n",
            "6   Debt_to_Income_Ratio    0.064999\n",
            "14               Month_4    0.064046\n",
            "12               Month_2    0.060586\n",
            "1                 Income    0.059578\n",
            "7      Employment_Status    0.059489\n",
            "3     Credit_Utilization    0.058543\n",
            "8         Account_Tenure    0.055470\n",
            "9       Credit_Card_Type    0.053433\n",
            "2           Credit_Score    0.049559\n",
            "10              Location    0.045501\n",
            "16               Month_6    0.043786\n",
            "11               Month_1    0.039813\n",
            "5           Loan_Balance    0.037406\n",
            "4        Missed_Payments    0.036032\n",
            "13               Month_3    0.031007\n",
            "\n",
            "Training Random Forest...\n",
            "\n",
            "Confusion Matrix for Random Forest:\n",
            "[[86  0]\n",
            " [14  0]]\n",
            "\n",
            "Feature Importance for Random Forest:\n",
            "                 Feature  Importance\n",
            "2           Credit_Score    0.104560\n",
            "6   Debt_to_Income_Ratio    0.099053\n",
            "5           Loan_Balance    0.094015\n",
            "3     Credit_Utilization    0.092181\n",
            "1                 Income    0.080271\n",
            "0                    Age    0.077899\n",
            "8         Account_Tenure    0.074532\n",
            "17         Payment_Score    0.057069\n",
            "7      Employment_Status    0.043358\n",
            "9       Credit_Card_Type    0.040842\n",
            "10              Location    0.037907\n",
            "4        Missed_Payments    0.036195\n",
            "14               Month_4    0.031676\n",
            "15               Month_5    0.028955\n",
            "11               Month_1    0.028304\n",
            "16               Month_6    0.027150\n",
            "13               Month_3    0.023410\n",
            "12               Month_2    0.022623\n",
            "\n",
            "Training Decision Tree...\n",
            "\n",
            "Confusion Matrix for Decision Tree:\n",
            "[[71 15]\n",
            " [13  1]]\n",
            "\n",
            "Feature Importance for Decision Tree:\n",
            "                 Feature  Importance\n",
            "2           Credit_Score    0.121336\n",
            "15               Month_5    0.118372\n",
            "3     Credit_Utilization    0.093619\n",
            "0                    Age    0.091079\n",
            "8         Account_Tenure    0.089749\n",
            "1                 Income    0.077698\n",
            "6   Debt_to_Income_Ratio    0.073167\n",
            "17         Payment_Score    0.070642\n",
            "10              Location    0.069553\n",
            "5           Loan_Balance    0.053076\n",
            "7      Employment_Status    0.045236\n",
            "9       Credit_Card_Type    0.029313\n",
            "12               Month_2    0.024194\n",
            "14               Month_4    0.015722\n",
            "4        Missed_Payments    0.014516\n",
            "13               Month_3    0.012728\n",
            "11               Month_1    0.000000\n",
            "16               Month_6    0.000000\n",
            "\n",
            "Training ANN...\n",
            "WARNING:tensorflow:5 out of the last 9 calls to <function TensorFlowTrainer.make_predict_function.<locals>.one_step_on_data_distributed at 0x00000146E5E999E0> triggered tf.function retracing. Tracing is expensive and the excessive number of tracings could be due to (1) creating @tf.function repeatedly in a loop, (2) passing tensors with different shapes, (3) passing Python objects instead of tensors. For (1), please define your @tf.function outside of the loop. For (2), @tf.function has reduce_retracing=True option that can avoid unnecessary retracing. For (3), please refer to https://www.tensorflow.org/guide/function#controlling_retracing and https://www.tensorflow.org/api_docs/python/tf/function for  more details.\n",
            "\u001b[1m1/4\u001b[0m \u001b[32m━━━━━\u001b[0m\u001b[37m━━━━━━━━━━━━━━━\u001b[0m \u001b[1m0s\u001b[0m 40ms/stepWARNING:tensorflow:6 out of the last 12 calls to <function TensorFlowTrainer.make_predict_function.<locals>.one_step_on_data_distributed at 0x00000146E5E999E0> triggered tf.function retracing. Tracing is expensive and the excessive number of tracings could be due to (1) creating @tf.function repeatedly in a loop, (2) passing tensors with different shapes, (3) passing Python objects instead of tensors. For (1), please define your @tf.function outside of the loop. For (2), @tf.function has reduce_retracing=True option that can avoid unnecessary retracing. For (3), please refer to https://www.tensorflow.org/guide/function#controlling_retracing and https://www.tensorflow.org/api_docs/python/tf/function for  more details.\n",
            "\u001b[1m4/4\u001b[0m \u001b[32m━━━━━━━━━━━━━━━━━━━━\u001b[0m\u001b[37m\u001b[0m \u001b[1m0s\u001b[0m 11ms/step\n",
            "\n",
            "Confusion Matrix for ANN:\n",
            "[[86  0]\n",
            " [14  0]]\n",
            "\n",
            "Model Comparison:\n",
            "           Model  Accuracy  Precision    Recall  F1-Score CV Accuracy\n",
            "0        XGBoost      0.85     0.0000  0.000000  0.000000       0.816\n",
            "1  Random Forest      0.86     0.0000  0.000000  0.000000        0.84\n",
            "2  Decision Tree      0.72     0.0625  0.071429  0.066667       0.718\n",
            "3            ANN      0.86     0.0000  0.000000  0.000000         N/A\n"
          ]
        }
      ],
      "source": [
        "# Define models\n",
        "models = {\n",
        "    'XGBoost': XGBClassifier(random_state=42, use_label_encoder=False, eval_metric='logloss'),\n",
        "    'Random Forest': RandomForestClassifier(random_state=42),\n",
        "    'Decision Tree': DecisionTreeClassifier(random_state=42),\n",
        "    'ANN': Sequential([\n",
        "        Dense(64, activation='relu', input_shape=(X_train.shape[1],)),\n",
        "        Dense(32, activation='relu'),\n",
        "        Dense(1, activation='sigmoid')\n",
        "    ])\n",
        "}\n",
        "\n",
        "# Store results\n",
        "results = []\n",
        "\n",
        "# Train and evaluate each model\n",
        "for name, model in models.items():\n",
        "    print(f'\\nTraining {name}...')\n",
        "    if name == 'ANN':\n",
        "        # Compile and train ANN\n",
        "        model.compile(optimizer='adam', loss='binary_crossentropy', metrics=['accuracy'])\n",
        "        model.fit(X_train, y_train, epochs=50, batch_size=32, verbose=0)\n",
        "        y_pred = (model.predict(X_test) > 0.5).astype(int).flatten()\n",
        "    else:\n",
        "        # Train tree-based models\n",
        "        model.fit(X_train, y_train)\n",
        "        y_pred = model.predict(X_test)\n",
        "\n",
        "    # Calculate metrics\n",
        "    accuracy = accuracy_score(y_test, y_pred)\n",
        "    precision = precision_score(y_test, y_pred, zero_division=0)\n",
        "    recall = recall_score(y_test, y_pred, zero_division=0)\n",
        "    f1 = f1_score(y_test, y_pred, zero_division=0)\n",
        "\n",
        "    # Cross-validation (skip for ANN due to complexity)\n",
        "    cv_scores = cross_val_score(model, X_scaled, y, cv=5, scoring='accuracy') if name != 'ANN' else [None]\n",
        "\n",
        "    # Store results\n",
        "    results.append({\n",
        "        'Model': name,\n",
        "        'Accuracy': accuracy,\n",
        "        'Precision': precision,\n",
        "        'Recall': recall,\n",
        "        'F1-Score': f1,\n",
        "        'CV Accuracy': cv_scores.mean() if name != 'ANN' else 'N/A'\n",
        "    })\n",
        "\n",
        "    # Print confusion matrix\n",
        "    print(f'\\nConfusion Matrix for {name}:')\n",
        "    print(confusion_matrix(y_test, y_pred))\n",
        "\n",
        "    # Print feature importance for tree-based models\n",
        "    if name != 'ANN':\n",
        "        feature_importance = pd.DataFrame({\n",
        "            'Feature': X.columns,\n",
        "            'Importance': model.feature_importances_\n",
        "        }).sort_values(by='Importance', ascending=False)\n",
        "        print(f'\\nFeature Importance for {name}:')\n",
        "        print(feature_importance)\n",
        "\n",
        "# Display results\n",
        "print('\\nModel Comparison:')\n",
        "results_df = pd.DataFrame(results)\n",
        "print(results_df)"
      ]
    },
    {
      "cell_type": "code",
      "execution_count": 16,
      "metadata": {
        "colab": {
          "base_uri": "https://localhost:8080/"
        },
        "id": "TrxlAir_XQym",
        "outputId": "fc6f7692-3ef3-4de8-b6b0-bdb7eafe78a1"
      },
      "outputs": [
        {
          "name": "stderr",
          "output_type": "stream",
          "text": [
            "WARNING:absl:You are saving your model as an HDF5 file via `model.save()` or `keras.saving.save_model(model)`. This file format is considered legacy. We recommend using instead the native Keras format, e.g. `model.save('my_model.keras')` or `keras.saving.save_model(model, 'my_model.keras')`. \n"
          ]
        },
        {
          "data": {
            "text/plain": [
              "['label_encoder.pkl']"
            ]
          },
          "execution_count": 16,
          "metadata": {},
          "output_type": "execute_result"
        }
      ],
      "source": [
        "import joblib\n",
        "from tensorflow.keras.models import save_model\n",
        "\n",
        "# Save tree-based models\n",
        "joblib.dump(models['XGBoost'], 'xgboost_model.pkl')\n",
        "joblib.dump(models['Random Forest'], 'random_forest_model.pkl')\n",
        "joblib.dump(models['Decision Tree'], 'decision_tree_model.pkl')\n",
        "\n",
        "# Save ANN model\n",
        "models['ANN'].save('ann_model.h5')\n",
        "\n",
        "# Save the scaler for preprocessing\n",
        "joblib.dump(scaler, 'scaler.pkl')\n",
        "\n",
        "# Save the LabelEncoder for categorical variables (if needed)\n",
        "joblib.dump(le, 'label_encoder.pkl')"
      ]
    },
    {
      "cell_type": "code",
      "execution_count": null,
      "metadata": {
        "id": "9bvYNZlznMW0"
      },
      "outputs": [],
      "source": []
    }
  ],
  "metadata": {
    "colab": {
      "provenance": []
    },
    "kernelspec": {
      "display_name": "Python 3",
      "name": "python3"
    },
    "language_info": {
      "codemirror_mode": {
        "name": "ipython",
        "version": 3
      },
      "file_extension": ".py",
      "mimetype": "text/x-python",
      "name": "python",
      "nbconvert_exporter": "python",
      "pygments_lexer": "ipython3",
      "version": "3.11.1"
    }
  },
  "nbformat": 4,
  "nbformat_minor": 0
}
